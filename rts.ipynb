{
 "cells": [
  {
   "cell_type": "markdown",
   "metadata": {},
   "source": [
    "# Real Time Systems"
   ]
  },
  {
   "cell_type": "code",
   "execution_count": 1,
   "metadata": {},
   "outputs": [],
   "source": [
    "import numpy as np\n",
    "import pandas as pd\n",
    "import plotly.express as px\n",
    "from rts.Helpers import *\n",
    "from rts.Processor import *\n",
    "from rts.Task import *\n",
    "from rts.TaskSet import *\n",
    "from timeit import default_timer as timer"
   ]
  },
  {
   "cell_type": "markdown",
   "metadata": {},
   "source": [
    "### Liu-Layland-Test"
   ]
  },
  {
   "cell_type": "code",
   "execution_count": 2,
   "metadata": {},
   "outputs": [
    {
     "name": "stdout",
     "output_type": "stream",
     "text": [
      "--------------------------------------------------\n",
      "Result\n",
      "--------------------------------------------------\n",
      "LL-Test for task set T = [T(3,1), T(5,2), T(8,3)]\n",
      "u\t= 1.1083\n",
      "uRM\t= 0.7798\n",
      "=> u <= uRM: False\n",
      "--------------------------------------------------\n"
     ]
    }
   ],
   "source": [
    "T = TaskSet(PTask(3, 1), PTask(5, 2), PTask(8, 3))\n",
    "\n",
    "print(\"-\" * 50)\n",
    "print(\"Result\")\n",
    "print(\"-\" * 50)\n",
    "print(f\"LL-Test for task set T = {T}\")\n",
    "print(f\"=> u <= uRM: {T.ll_test()}\")\n",
    "print(\"-\" * 50)"
   ]
  },
  {
   "cell_type": "markdown",
   "metadata": {},
   "source": [
    "### RMA Test\n",
    "\n",
    "Iteration rule:\n",
    "$$\n",
    "t^{(l+1)} = t_{e,i} * \\sum_{k=1}^{i-1}{\\lceil\\frac{t^{(l)}}{t_{p,k}}\\rceil * t_{e,k}}\n",
    "$$"
   ]
  },
  {
   "cell_type": "code",
   "execution_count": 3,
   "metadata": {},
   "outputs": [
    {
     "name": "stdout",
     "output_type": "stream",
     "text": [
      "--------------------------------------------------\n",
      "Result\n",
      "--------------------------------------------------\n",
      "RMA Test for task set T = [T(100,30), T(150,40), T(190,35)]\n",
      "Least prioritized task: T(190,35)\n",
      "t0\t= 35\n",
      "t1\t= 105.0\n",
      "t2\t= 135.0\n",
      "t3\t= 135.0\n",
      "=> converges after 4 iterations\n",
      "t_wcrt\t= 135.0\n",
      "=> t_wcrt < t_pmin: True\n",
      "--------------------------------------------------\n"
     ]
    }
   ],
   "source": [
    "T = TaskSet(PTask(100, 30), PTask(150, 40), PTask(190, 35))\n",
    "\n",
    "print(\"-\" * 50)\n",
    "print(\"Result\")\n",
    "print(\"-\" * 50)\n",
    "print(f\"RMA Test for task set T = {T}\")\n",
    "\n",
    "res = T.rma_test()\n",
    "\n",
    "print(f\"=> t_wcrt < t_pmin: {res}\")\n",
    "print(\"-\" * 50)"
   ]
  },
  {
   "cell_type": "markdown",
   "metadata": {},
   "source": [
    "### SR Test\n",
    "\n",
    "Test for \"Specialization operation\" by Han/Tyan"
   ]
  },
  {
   "cell_type": "code",
   "execution_count": 4,
   "metadata": {},
   "outputs": [
    {
     "name": "stdout",
     "output_type": "stream",
     "text": [
      "--------------------------------------------------\n",
      "Result\n",
      "--------------------------------------------------\n",
      "SR Test for task set T = [T(6,1), T(8,3), T(10,2), T(24,1), T(49,1)]\n",
      "       tbi                                p_mod         u  u < 1\n",
      "T0     6.0          [6.0, 6.0, 6.0, 24.0, 48.0]    1.0625  False\n",
      "T1     4.0          [4.0, 8.0, 8.0, 16.0, 32.0]   0.96875   True\n",
      "T2     5.0         [5.0, 5.0, 10.0, 20.0, 40.0]     1.075  False\n",
      "T3     6.0          [6.0, 6.0, 6.0, 24.0, 48.0]    1.0625  False\n",
      "T4  3.0625  [3.0625, 6.125, 6.125, 12.25, 49.0]  1.244898  False\n",
      "--------------------------------------------------\n",
      "Stats\n",
      "--------------------------------------------------\n",
      "Executed in 574.2920038756 μs\n"
     ]
    }
   ],
   "source": [
    "T = TaskSet(PTask(6, 1), PTask(8, 3), PTask(10, 2), PTask(24, 1), PTask(49, 1))\n",
    "\n",
    "print(\"-\" * 50)\n",
    "print(\"Result\")\n",
    "print(\"-\" * 50)\n",
    "print(f\"SR Test for task set T = {T}\")\n",
    "\n",
    "start = timer()\n",
    "res = T.sr_test()\n",
    "end = round((timer() - start) * 1000000, 10)\n",
    "\n",
    "res = pd.DataFrame(res).T\n",
    "print(res)\n",
    "\n",
    "print(\"-\" * 50) \n",
    "print(\"Stats\")\n",
    "print(\"-\" * 50)\n",
    "print(f\"Executed in {end} μs\")\n",
    "\n",
    "# fig = px.line(x=range(1, len(execution_times) + 1), y=execution_times)\n",
    "# fig.update_layout(xaxis_title=\"Execution\", yaxis_title=\"Execution time (μs)\")\n",
    "# fig.show()"
   ]
  },
  {
   "cell_type": "markdown",
   "metadata": {},
   "source": [
    "## MP-Scheduling\n",
    "\n",
    "### RMNF"
   ]
  },
  {
   "cell_type": "code",
   "execution_count": 5,
   "metadata": {},
   "outputs": [],
   "source": [
    "T = TaskSet(PTask(2, 1), PTask(2.5, 0.1), PTask(3, 1), PTask(4, 1), PTask(4.5, 0.1), PTask(5, 1), PTask(6, 1), PTask(7, 1), PTask(8, 1), PTask(8.5, 0.1), PTask(9, 1))\n",
    "cpu = Processor(8)"
   ]
  },
  {
   "cell_type": "code",
   "execution_count": 6,
   "metadata": {},
   "outputs": [
    {
     "name": "stdout",
     "output_type": "stream",
     "text": [
      "--------------------------------------------------\n",
      "Result\n",
      "--------------------------------------------------\n",
      "RMNF for task set T = [T(2,1), T(2.5,0.1), T(3,1), T(4,1), T(4.5,0.1), T(5,1), T(6,1), T(7,1), T(8,1), T(8.5,0.1), T(9,1)]\n",
      "uRM for T: 0.7154519838395894\n",
      "           u       urm                                         Tasks\n",
      "C1      0.54  0.828427                          [T(2,1), T(2.5,0.1)]\n",
      "C2  0.638889  0.743492  [T(3,1), T(4,1), T(4.5,0.1), T(5,1), T(6,1)]\n",
      "C3  0.247876  0.756828          [T(7,1), T(8,1), T(8.5,0.1), T(9,1)]\n",
      "C4         0         1                                            []\n",
      "C5         0         1                                            []\n",
      "C6         0         1                                            []\n",
      "C7         0         1                                            []\n",
      "C8         0         1                                            []\n",
      "Success: True\n",
      "--------------------------------------------------\n"
     ]
    }
   ],
   "source": [
    "success = cpu.rmnf(T)\n",
    "\n",
    "print('-' * 50)\n",
    "print(\"Result\")\n",
    "print('-' * 50)\n",
    "print(f\"RMNF for task set T = {T}\")\n",
    "print(f\"uRM for T: {T.urm}\")\n",
    "df = pd.DataFrame(cpu.get_partitioning()).T\n",
    "print(df)\n",
    "print(f\"Success: {success}\")\n",
    "print('-' * 50)"
   ]
  },
  {
   "cell_type": "markdown",
   "metadata": {},
   "source": [
    "### RMFF"
   ]
  },
  {
   "cell_type": "code",
   "execution_count": 7,
   "metadata": {},
   "outputs": [
    {
     "name": "stdout",
     "output_type": "stream",
     "text": [
      "--------------------------------------------------\n",
      "Result\n",
      "--------------------------------------------------\n",
      "RMFF for task set T = [T(2,1), T(2.5,0.1), T(3,1), T(4,1), T(4.5,0.1), T(5,1), T(6,1), T(7,1), T(8,1), T(8.5,0.1), T(9,1)]\n",
      "uRM for T: 0.7154519838395894\n",
      "           u       urm                                              Tasks\n",
      "C1  0.740654  0.743492  [T(2,1), T(2.5,0.1), T(4.5,0.1), T(6,1), T(8.5...\n",
      "C2   0.72619  0.779763                           [T(3,1), T(4,1), T(7,1)]\n",
      "C3  0.436111  0.779763                           [T(5,1), T(8,1), T(9,1)]\n",
      "C4         0         1                                                 []\n",
      "C5         0         1                                                 []\n",
      "C6         0         1                                                 []\n",
      "C7         0         1                                                 []\n",
      "C8         0         1                                                 []\n",
      "Success: True\n",
      "--------------------------------------------------\n"
     ]
    }
   ],
   "source": [
    "success = cpu.rmff(T)\n",
    "\n",
    "print('-' * 50)\n",
    "print(\"Result\")\n",
    "print('-' * 50)\n",
    "print(f\"RMFF for task set T = {T}\")\n",
    "print(f\"uRM for T: {T.urm}\")\n",
    "df = pd.DataFrame(cpu.get_partitioning()).T\n",
    "print(df)\n",
    "print(f\"Success: {success}\")\n",
    "print('-' * 50)"
   ]
  },
  {
   "cell_type": "markdown",
   "metadata": {},
   "source": [
    "### RMFFDU"
   ]
  },
  {
   "cell_type": "code",
   "execution_count": 8,
   "metadata": {},
   "outputs": [
    {
     "name": "stdout",
     "output_type": "stream",
     "text": [
      "--------------------------------------------------\n",
      "Result\n",
      "--------------------------------------------------\n",
      "RMFFDU for task set T = [T(8.5,0.1), T(4.5,0.1), T(2.5,0.1), T(9,1), T(8,1), T(7,1), T(6,1), T(5,1), T(4,1), T(3,1), T(2,1)]\n",
      "uRM for T: 0.7154519838395894\n",
      "    u urm                                              Tasks\n",
      "C1  0   1  [T(8.5,0.1), T(4.5,0.1), T(2.5,0.1), T(9,1), T...\n",
      "C2  0   1                                   [T(5,1), T(4,1)]\n",
      "C3  0   1                                           [T(3,1)]\n",
      "C4  0   1                                           [T(2,1)]\n",
      "C5  0   1                                                 []\n",
      "C6  0   1                                                 []\n",
      "C7  0   1                                                 []\n",
      "C8  0   1                                                 []\n",
      "Success: True\n",
      "--------------------------------------------------\n"
     ]
    }
   ],
   "source": [
    "success = cpu.rmffdu(T)\n",
    "\n",
    "print('-' * 50)\n",
    "print(\"Result\")\n",
    "print('-' * 50)\n",
    "print(f\"RMFFDU for task set T = {T}\")\n",
    "print(f\"uRM for T: {T.urm}\")\n",
    "df = pd.DataFrame(cpu.get_partitioning()).T\n",
    "print(df)\n",
    "print(f\"Success: {success}\")\n",
    "print('-' * 50)"
   ]
  },
  {
   "cell_type": "markdown",
   "metadata": {},
   "source": [
    "### RMST"
   ]
  },
  {
   "cell_type": "code",
   "execution_count": 9,
   "metadata": {},
   "outputs": [
    {
     "name": "stdout",
     "output_type": "stream",
     "text": [
      "--------------------------------------------------\n",
      "Result\n",
      "--------------------------------------------------\n",
      "RMNF for task set T = [T(8,1), T(4,1), T(2,1), T(8.5,0.1), T(4.5,0.1), T(9,1), T(5,1), T(2.5,0.1), T(6,1), T(3,1), T(7,1)]\n",
      "uRM for T: 0.7154519838395894\n",
      "           u urm                                             Tasks\n",
      "C1  0.886765   1              [T(8,1), T(4,1), T(2,1), T(8.5,0.1)]\n",
      "C2      0.54   1  [T(4.5,0.1), T(9,1), T(5,1), T(2.5,0.1), T(6,1)]\n",
      "C3   0.47619   1                                  [T(3,1), T(7,1)]\n",
      "C4         0   1                                                []\n",
      "C5         0   1                                                []\n",
      "C6         0   1                                                []\n",
      "C7         0   1                                                []\n",
      "C8         0   1                                                []\n",
      "Success: True\n",
      "--------------------------------------------------\n"
     ]
    }
   ],
   "source": [
    "success = cpu.rmst(T)\n",
    "\n",
    "print('-' * 50)\n",
    "print(\"Result\")\n",
    "print('-' * 50)\n",
    "print(f\"RMNF for task set T = {T}\")\n",
    "print(f\"uRM for T: {T.urm}\")\n",
    "df = pd.DataFrame(cpu.get_partitioning()).T\n",
    "print(df)\n",
    "print(f\"Success: {success}\")\n",
    "print('-' * 50)"
   ]
  },
  {
   "cell_type": "code",
   "execution_count": null,
   "metadata": {},
   "outputs": [],
   "source": []
  }
 ],
 "metadata": {
  "kernelspec": {
   "display_name": "Python 3.10.4 ('data-analysis')",
   "language": "python",
   "name": "python3"
  },
  "language_info": {
   "codemirror_mode": {
    "name": "ipython",
    "version": 3
   },
   "file_extension": ".py",
   "mimetype": "text/x-python",
   "name": "python",
   "nbconvert_exporter": "python",
   "pygments_lexer": "ipython3",
   "version": "3.10.4"
  },
  "orig_nbformat": 4,
  "vscode": {
   "interpreter": {
    "hash": "e3729f0f6d57c9c328996c02b9ba88245de7dd19545b9a24b1bc1d539dcffeb5"
   }
  }
 },
 "nbformat": 4,
 "nbformat_minor": 2
}
